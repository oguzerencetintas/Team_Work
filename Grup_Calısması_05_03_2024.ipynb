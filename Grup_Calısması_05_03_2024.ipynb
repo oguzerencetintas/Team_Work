{
 "cells": [
  {
   "cell_type": "markdown",
   "metadata": {},
   "source": [
    "## filter() fonksiyonu"
   ]
  },
  {
   "cell_type": "markdown",
   "metadata": {},
   "source": [
    " Python'da filter() fonksiyonu, bir liste veya başka bir veri yapısı üzerinde belirli bir koşulu sağlayan öğeleri seçmek için kullanılan bir yüksek derecede işlevsel bir fonksiyondur. filter() fonksiyonu, iki argüman alır: bir filtreleme işlevi ve bir dizi veri.\n",
    "\n",
    "Genel sözdizimi şu şekildedir:\n",
    "\n",
    "filter(function, iterable)\n",
    "\n",
    "function: Her bir öğe için çağrılacak bir işlevdir. Bu işlev, öğenin koşulu sağlayıp sağlamadığını değerlendirir. Koşul sağlanıyorsa, öğe çıktıya dahil edilir.\n",
    "\n",
    "iterable: Filtrelemek istediğiniz veri yapısıdır (liste, demet, vb.).\n",
    "\n",
    "filter() fonksiyonu, belirtilen işlevin True döndürdüğü öğeleri içeren bir yinelenebilir nesne döndürür.\n",
    "\n",
    "\n",
    "\n",
    "\n",
    "\n",
    "\n",
    "\n",
    "///////////////////////////////////////////ÖRNEKLER////////////////////////////////////////////////////////////////////\n",
    "\n"
   ]
  },
  {
   "cell_type": "code",
   "execution_count": 22,
   "metadata": {},
   "outputs": [
    {
     "name": "stdout",
     "output_type": "stream",
     "text": [
      "[1, 3, 5, 7, 9]\n"
     ]
    }
   ],
   "source": [
    "# Kolay seviye: Pozitif sayıları filtreleme\n",
    "numbers = [1, -2, 3, -4, 5, -6, 7, -8, 9]\n",
    "positive_numbers = list(filter(lambda x: x > 0, numbers))\n",
    "print(positive_numbers)\n"
   ]
  },
  {
   "cell_type": "code",
   "execution_count": 2,
   "metadata": {},
   "outputs": [
    {
     "name": "stdout",
     "output_type": "stream",
     "text": [
      "[2, 4, 6, 8, 10]\n"
     ]
    }
   ],
   "source": [
    "# Orta seviye: Çift sayıları filtreleme\n",
    "numbers = [1, 2, 3, 4, 5, 6, 7, 8, 9, 10]\n",
    "even_numbers = list(filter(lambda x: x % 2 == 0, numbers))\n",
    "print(even_numbers)"
   ]
  },
  {
   "cell_type": "code",
   "execution_count": 2,
   "metadata": {},
   "outputs": [
    {
     "name": "stdout",
     "output_type": "stream",
     "text": [
      "[2, 3, 5, 7, 11, 13, 17, 19]\n"
     ]
    }
   ],
   "source": [
    "# Zor seviye: Asal sayıları bulma              # int(n**0.5) ifadesi, n'nin karekökünü hesaplar. Bu, büyük bir sayının bölenlerini kontrol ederken,\n",
    "                                               # karekök kadar olan bir aralık içinde arama yapmanın yeterli olduğu bir matematik gerçeğine dayanır.\n",
    "\n",
    "def is_prime(n):\n",
    "    if n <= 1:                                      \n",
    "        return False                                \n",
    "    for i in range(2, int(n**0.5) + 1):\n",
    "        if n % i == 0:\n",
    "            return False\n",
    "    return True\n",
    "\n",
    "numbers = range(1, 20)\n",
    "prime_numbers = list(filter(is_prime, numbers))\n",
    "print(prime_numbers)"
   ]
  },
  {
   "cell_type": "code",
   "execution_count": 17,
   "metadata": {},
   "outputs": [
    {
     "name": "stdout",
     "output_type": "stream",
     "text": [
      "5  Asal Sayıdır.\n"
     ]
    }
   ],
   "source": [
    "sayi=int(input(\"Sayıyı Girin : \"))\n",
    "if sayi > 1:\n",
    "\n",
    "   for i in range(2,sayi):\n",
    "       if (sayi % i) == 0:\n",
    "           print(sayi,\" Asal Sayı Değildir.\")\n",
    "           break\n",
    "   else:\n",
    "       print(sayi,\" Asal Sayıdır.\")\n",
    " \n",
    "else:\n",
    "   print(sayi,\" Asal Sayı Değildir.\")"
   ]
  },
  {
   "cell_type": "code",
   "execution_count": 19,
   "metadata": {},
   "outputs": [
    {
     "name": "stdout",
     "output_type": "stream",
     "text": [
      "[2, 3, 5, 7, 11, 13, 17, 19]\n"
     ]
    }
   ],
   "source": [
    "def is_prime(n):\n",
    "    if n <= 1:\n",
    "        return False\n",
    "    for i in range(2, n):\n",
    "        if n % i == 0:\n",
    "            return False\n",
    "    return True\n",
    "numbers = range(1, 20)\n",
    "prime_numbers = list(filter(is_prime, numbers))\n",
    "print(prime_numbers)"
   ]
  },
  {
   "cell_type": "markdown",
   "metadata": {},
   "source": [
    "///////////////////////////////////////////////////////////////KULLANIM ALANLARI///////////////////////////////////////////////////////////////////////////////////////////////\n",
    "\n",
    "\n",
    "Veri Temizleme ve Ön İşleme: Veri biliminde, veri temizleme ve ön işleme süreçleri sırasında sıklıkla filtreleme işlemleri gerçekleştirilir. Örneğin, veri setindeki gürültülü veya gereksiz verileri filtrelemek için filter() fonksiyonu kullanılabilir.\n",
    "\n",
    "Veri Analizi: Veri setleri üzerinde belirli koşulları sağlayan verileri seçmek için filter() fonksiyonu kullanılabilir. Örneğin, belirli bir ürün kategorisine veya fiyat aralığına göre veri setinden örnekler seçmek için filter() fonksiyonu kullanılabilir.\n",
    "\n",
    "Veri Görselleştirme: Veri bilimi projelerinde, verilerin belirli özelliklerini vurgulamak veya görselleştirmek için filtreleme işlemleri gerçekleştirilebilir. Örneğin, belirli bir zaman aralığındaki verileri görselleştirmek için filter() fonksiyonu kullanılabilir.\n",
    "\n",
    "Makine Öğrenimi ve Modelleme: Veri setlerini hazırlarken, belirli koşulları sağlayan örnekleri seçmek veya ayıklamak için filter() fonksiyonu kullanılabilir. Ayrıca, makine öğrenimi modellerini eğitmek veya test etmek için veri setlerini bölmede veya filtrelemede filter() fonksiyonundan yararlanılabilir.\n",
    "\n",
    "Veri Yapılarının İşlenmesi: Veri bilimi projelerinde, veri yapılarının (liste, dizi, sözlük, vb.) belirli koşulları sağlayan öğelerini seçmek veya dönüştürmek için filter() fonksiyonu sıklıkla kullanılır. Bu, veri analizi veya modelleme süreçlerinde yaygın olarak görülen bir uygulamadır.\n",
    "\n",
    "filter() fonksiyonu, veri bilimi projelerinde veri manipülasyonu ve analizinde oldukça esnek bir araçtır ve birçok farklı senaryoda kullanılabilir."
   ]
  }
 ],
 "metadata": {
  "kernelspec": {
   "display_name": "Python 3",
   "language": "python",
   "name": "python3"
  },
  "language_info": {
   "codemirror_mode": {
    "name": "ipython",
    "version": 3
   },
   "file_extension": ".py",
   "mimetype": "text/x-python",
   "name": "python",
   "nbconvert_exporter": "python",
   "pygments_lexer": "ipython3",
   "version": "3.11.5"
  }
 },
 "nbformat": 4,
 "nbformat_minor": 2
}
